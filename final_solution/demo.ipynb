{
 "cells": [
  {
   "cell_type": "markdown",
   "id": "a54be657",
   "metadata": {},
   "source": "# Financial Forecasting - Demo\n\nДемонстрация использования класса **FinancialForecaster** для предсказания вероятностей роста акций на 1-20 дней вперед.\n\n## Структура решения:\n- `solution.py` - основной класс FinancialForecaster\n- `demo.ipynb` - этот ноутбук с примером использования\n- `README.md` - документация\n\n## Формат данных:\n\n### Входные данные (train):\n**candles.csv**:\n```\nticker,begin,open,high,low,close,volume\nAFLT,2020-06-19,52.5,53.2,52.1,52.8,1000000\n...\n```\n\n**news.csv**:\n```\npublish_date,title,publication\n2020-06-19,\"Заголовок новости\",\"Полный текст публикации\"\n...\n```\n\n### Выходные данные (submission):\n```\nticker,p1,p2,p3,p4,p5,...,p20\nAFLT,0.51,0.52,0.48,0.50,0.53,...,0.53\nSBER,0.49,0.53,0.51,0.50,0.52,...,0.50\n```\n\n**p1-p20** - вероятности роста цены на каждый из 20 дней вперед (одна строка на тикер)"
  },
  {
   "cell_type": "code",
   "execution_count": 1,
   "id": "60e6b889",
   "metadata": {},
   "outputs": [],
   "source": [
    "import sys\n",
    "sys.path.append('.')\n",
    "\n",
    "from solution import FinancialForecaster\n",
    "import pandas as pd\n",
    "import numpy as np"
   ]
  },
  {
   "cell_type": "markdown",
   "id": "d4d33241",
   "metadata": {},
   "source": [
    "## 1. Инициализация модели"
   ]
  },
  {
   "cell_type": "code",
   "execution_count": 2,
   "id": "9a3f5bef",
   "metadata": {},
   "outputs": [
    {
     "name": "stdout",
     "output_type": "stream",
     "text": [
      "✓ Модель инициализирована\n"
     ]
    }
   ],
   "source": [
    "# Создаем экземпляр модели\n",
    "model = FinancialForecaster(random_state=42)\n",
    "\n",
    "print(\"✓ Модель инициализирована\")"
   ]
  },
  {
   "cell_type": "markdown",
   "id": "e1e179f1",
   "metadata": {},
   "source": [
    "## 2. Обучение модели\n",
    "\n",
    "Обучение на исторических данных (candles + news)."
   ]
  },
  {
   "cell_type": "code",
   "execution_count": 3,
   "id": "e04abb4c",
   "metadata": {},
   "outputs": [
    {
     "name": "stdout",
     "output_type": "stream",
     "text": [
      "============================================================\n",
      "ОБУЧЕНИЕ МОДЕЛИ\n",
      "============================================================\n",
      "\n",
      "[1/6] Загрузка данных...\n",
      "  • Загружено 24197 свечей по 19 тикерам\n",
      "  • Загружено 25425 новостей\n",
      "\n",
      "[2/6] Обработка новостей (sentiment analysis)...\n",
      "  • Средний sentiment: 0.289\n",
      "\n",
      "[3/6] Feature engineering...\n",
      "  • Создано 99 фич\n",
      "\n",
      "[4/6] Кластеризация тикеров...\n",
      "  • Создано 4 кластеров тикеров\n",
      "\n",
      "[5/6] Подготовка данных для обучения...\n",
      "  • Tree features: 75\n",
      "  • Macro features: 50\n",
      "\n",
      "[6/6] Обучение ансамбля моделей...\n",
      "  • Обучение 20 классификаторов для p1-p20...\n",
      "    ⚠️  Пропускаем день 3 - нет таргета log_return_3d\n",
      "    ⚠️  Пропускаем день 4 - нет таргета log_return_4d\n",
      "    ✓ Обучено 5/20 моделей\n",
      "    ⚠️  Пропускаем день 6 - нет таргета log_return_6d\n",
      "    ⚠️  Пропускаем день 7 - нет таргета log_return_7d\n",
      "    ⚠️  Пропускаем день 8 - нет таргета log_return_8d\n",
      "    ⚠️  Пропускаем день 9 - нет таргета log_return_9d\n",
      "    ✓ Обучено 10/20 моделей\n",
      "    ⚠️  Пропускаем день 11 - нет таргета log_return_11d\n",
      "    ⚠️  Пропускаем день 12 - нет таргета log_return_12d\n",
      "    ⚠️  Пропускаем день 13 - нет таргета log_return_13d\n",
      "    ⚠️  Пропускаем день 14 - нет таргета log_return_14d\n",
      "    ⚠️  Пропускаем день 15 - нет таргета log_return_15d\n",
      "    ⚠️  Пропускаем день 16 - нет таргета log_return_16d\n",
      "    ⚠️  Пропускаем день 17 - нет таргета log_return_17d\n",
      "    ⚠️  Пропускаем день 18 - нет таргета log_return_18d\n",
      "    ⚠️  Пропускаем день 19 - нет таргета log_return_19d\n",
      "    ✓ Обучено 20/20 моделей\n",
      "  ✓ Обучено 5 моделей\n",
      "\n",
      "============================================================\n",
      "✓ ОБУЧЕНИЕ ЗАВЕРШЕНО\n",
      "============================================================\n",
      "\n",
      "✓ Модель обучена\n"
     ]
    }
   ],
   "source": [
    "# Пути к обучающим данным\n",
    "train_candles_path = '../forecast_data/candles.csv'\n",
    "train_news_path = '../forecast_data/news.csv'\n",
    "\n",
    "# Обучение модели\n",
    "model.fit(\n",
    "    candles_path=train_candles_path,\n",
    "    news_path=train_news_path\n",
    ")\n",
    "\n",
    "print(\"\\n✓ Модель обучена\")"
   ]
  },
  {
   "cell_type": "markdown",
   "id": "89946141",
   "metadata": {},
   "source": [
    "## 3. Сохранение обученной модели\n",
    "\n",
    "Сохраняем модель для последующего использования без переобучения."
   ]
  },
  {
   "cell_type": "code",
   "execution_count": 4,
   "id": "58381835",
   "metadata": {},
   "outputs": [
    {
     "name": "stdout",
     "output_type": "stream",
     "text": [
      "✓ Модель сохранена: trained_model.pkl\n",
      "✓ Модель сохранена в trained_model.pkl\n"
     ]
    }
   ],
   "source": [
    "# Сохраняем модель\n",
    "model.save('trained_model.pkl')\n",
    "\n",
    "print(\"✓ Модель сохранена в trained_model.pkl\")"
   ]
  },
  {
   "cell_type": "markdown",
   "id": "fe03ddd9",
   "metadata": {},
   "source": [
    "## 4. Предсказание на новых данных\n",
    "\n",
    "Загружаем тестовые данные и генерируем submission."
   ]
  },
  {
   "cell_type": "code",
   "execution_count": 5,
   "id": "957d87ad",
   "metadata": {},
   "outputs": [
    {
     "name": "stdout",
     "output_type": "stream",
     "text": [
      "============================================================\n",
      "ПРЕДСКАЗАНИЕ\n",
      "============================================================\n",
      "\n",
      "[1/4] Загрузка тестовых данных...\n",
      "  • Загружено 1745 свечей по 19 тикерам\n",
      "  • Период: 2025-06-02 - 2025-09-08\n",
      "\n",
      "[2/4] Обработка новостей...\n",
      "  • Средний sentiment: 0.329\n",
      "\n",
      "[3/4] Feature engineering...\n",
      "  • Создано 99 фич\n",
      "\n",
      "[4/4] Генерация предсказаний...\n",
      "\n",
      "✓ Submission сохранен: submission.csv\n",
      "  • Строк: 19\n",
      "  • Тикеров: 19\n",
      "\n",
      "============================================================\n",
      "✓ ПРЕДСКАЗАНИЕ ЗАВЕРШЕНО\n",
      "============================================================\n",
      "\n",
      "✓ Submission создан\n"
     ]
    }
   ],
   "source": [
    "# Пути к тестовым данным\n",
    "test_candles_path = '../forecast_data/candles_2.csv'  # или другой файл\n",
    "test_news_path = '../forecast_data/news_2.csv'\n",
    "\n",
    "# Генерируем предсказания\n",
    "submission = model.predict(\n",
    "    candles_path=test_candles_path,\n",
    "    news_path=test_news_path,\n",
    "    output_path='submission.csv'\n",
    ")\n",
    "\n",
    "print(\"\\n✓ Submission создан\")"
   ]
  },
  {
   "cell_type": "markdown",
   "id": "7ac01eec",
   "metadata": {},
   "source": [
    "## 5. Просмотр результатов"
   ]
  },
  {
   "cell_type": "code",
   "execution_count": null,
   "id": "7914c03d",
   "metadata": {},
   "outputs": [],
   "source": "# Смотрим на первые строки submission\nprint(\"Первые 10 строк submission:\\n\")\nprint(submission.head(10))\n\nprint(f\"\\nВсего строк: {len(submission)}\")\nprint(f\"Уникальных тикеров: {submission['ticker'].nunique()}\")\n\n# Статистика по вероятностям\nprint(\"\\nСтатистика вероятностей (p1-p20):\")\nprob_cols = [f'p{i}' for i in range(1, 21)]\nprint(submission[prob_cols].describe())\n\n# Примеры предсказаний для конкретных тикеров\nprint(\"\\n\\nПримеры предсказаний:\")\nfor ticker in submission['ticker'].head(3):\n    row = submission[submission['ticker'] == ticker].iloc[0]\n    print(f\"\\n{ticker}:\")\n    print(f\"  p1 (1 день):   {row['p1']:.4f}\")\n    print(f\"  p5 (5 дней):   {row['p5']:.4f}\")\n    print(f\"  p10 (10 дней): {row['p10']:.4f}\")\n    print(f\"  p20 (20 дней): {row['p20']:.4f}\")"
  },
  {
   "cell_type": "markdown",
   "id": "a9484f6e",
   "metadata": {},
   "source": [
    "## 6. Альтернативный вариант: загрузка обученной модели\n",
    "\n",
    "Если модель уже обучена и сохранена, можно загрузить её и сразу делать предсказания."
   ]
  },
  {
   "cell_type": "code",
   "execution_count": null,
   "id": "9defc692",
   "metadata": {},
   "outputs": [
    {
     "name": "stdout",
     "output_type": "stream",
     "text": [
      "✓ Модель загружена: trained_model.pkl\n",
      "============================================================\n",
      "ПРЕДСКАЗАНИЕ\n",
      "============================================================\n",
      "\n",
      "[1/4] Загрузка тестовых данных...\n",
      "  • Загружено 1745 свечей по 19 тикерам\n",
      "  • Период: 2025-06-02 - 2025-09-08\n",
      "\n",
      "[2/4] Обработка новостей...\n",
      "  • Средний sentiment: 0.329\n",
      "\n",
      "[3/4] Feature engineering...\n",
      "  • Создано 99 фич\n",
      "\n",
      "[4/4] Генерация предсказаний...\n",
      "\n",
      "✓ Submission сохранен: submission_from_loaded.csv\n",
      "  • Строк: 1745\n",
      "  • Тикеров: 19\n",
      "\n",
      "============================================================\n",
      "✓ ПРЕДСКАЗАНИЕ ЗАВЕРШЕНО\n",
      "============================================================\n",
      "✓ Предсказания сделаны с загруженной моделью\n"
     ]
    }
   ],
   "source": [
    "# Создаем новый экземпляр и загружаем обученную модель\n",
    "loaded_model = FinancialForecaster()\n",
    "loaded_model.load('trained_model.pkl')\n",
    "\n",
    "# Делаем предсказания\n",
    "submission2 = loaded_model.predict(\n",
    "    candles_path=test_candles_path,\n",
    "    news_path=test_news_path,\n",
    "    output_path='submission_from_loaded.csv'\n",
    ")\n",
    "\n",
    "print(\"✓ Предсказания сделаны с загруженной моделью\")"
   ]
  }
 ],
 "metadata": {
  "kernelspec": {
   "display_name": "recsys",
   "language": "python",
   "name": "python3"
  },
  "language_info": {
   "codemirror_mode": {
    "name": "ipython",
    "version": 3
   },
   "file_extension": ".py",
   "mimetype": "text/x-python",
   "name": "python",
   "nbconvert_exporter": "python",
   "pygments_lexer": "ipython3",
   "version": "3.11.10"
  }
 },
 "nbformat": 4,
 "nbformat_minor": 5
}