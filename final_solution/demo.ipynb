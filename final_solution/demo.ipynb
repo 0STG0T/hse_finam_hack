{
 "cells": [
  {
   "cell_type": "markdown",
   "id": "intro",
   "metadata": {},
   "source": [
    "# Financial Forecasting - Demo v3.1\n",
    "\n",
    "Демонстрация использования класса **FinancialForecaster** для предсказания **доходностей** (returns) на 1-20 дней вперед.\n",
    "\n",
    "## ⚠️ ВАЖНО: Формат p1-p20\n",
    "\n",
    "**p1-p20 = предсказанные ДОХОДНОСТИ (returns), НЕ вероятности!**\n",
    "\n",
    "## Структура решения:\n",
    "- `solution.py` - основной класс FinancialForecaster (160 моделей)\n",
    "- `demo.ipynb` - этот ноутбук\n",
    "- `FORMAT_FIX_CRITICAL.md` - важная информация о формате\n",
    "\n",
    "## Формат submission:\n",
    "\n",
    "```csv\n",
    "ticker,p1,p2,p3,p4,p5,...,p20\n",
    "AFLT,0.0123,-0.0089,0.0234,0.0012,-0.0156,...,-0.0112\n",
    "SBER,-0.0067,0.0234,0.0089,0.0012,-0.0145,...,0.0045\n",
    "```\n",
    "\n",
    "**Интерпретация**:\n",
    "- `p1 = 0.0123` → ожидается +1.23% через 1 день\n",
    "- `p5 = -0.0156` → ожидается -1.56% через 5 дней\n",
    "- `p20 = 0.0198` → ожидается +1.98% через 20 дней"
   ]
  },
  {
   "cell_type": "markdown",
   "id": "imports",
   "metadata": {},
   "source": [
    "## 0. Импорты и настройка"
   ]
  },
  {
   "cell_type": "code",
   "execution_count": 8,
   "id": "setup",
   "metadata": {},
   "outputs": [
    {
     "name": "stdout",
     "output_type": "stream",
     "text": [
      "✓ Импорты выполнены\n",
      "✓ Используется обновленная версия solution.py (returns, не probabilities)\n"
     ]
    }
   ],
   "source": [
    "import sys\n",
    "sys.path.append('.')\n",
    "\n",
    "# Перезагрузка модуля если уже был импортирован\n",
    "if 'solution' in sys.modules:\n",
    "    del sys.modules['solution']\n",
    "\n",
    "from solution import FinancialForecaster\n",
    "import pandas as pd\n",
    "import numpy as np\n",
    "import warnings\n",
    "warnings.filterwarnings('ignore')\n",
    "\n",
    "print(\"✓ Импорты выполнены\")\n",
    "print(\"✓ Используется обновленная версия solution.py (returns, не probabilities)\")"
   ]
  },
  {
   "cell_type": "markdown",
   "id": "init",
   "metadata": {},
   "source": [
    "## 1. Инициализация модели\n",
    "\n",
    "Создаем экземпляр с ансамблем из 160 моделей:\n",
    "- 2 LGBM (aggressive + conservative) × 2 (regressor + classifier)\n",
    "- 1 CatBoost × 2 (regressor + classifier)\n",
    "- 1 Ridge regressor + scaler\n",
    "- Для каждого из 20 дней = 8 объектов × 20 = 160"
   ]
  },
  {
   "cell_type": "code",
   "execution_count": 9,
   "id": "model_init",
   "metadata": {},
   "outputs": [
    {
     "name": "stdout",
     "output_type": "stream",
     "text": [
      "✓ Модель инициализирована\n",
      "  Конфигураций моделей: 7\n",
      "  Модели: ['lgbm_aggressive', 'lgbm_conservative', 'lgbm_clf_aggressive', 'lgbm_clf_conservative', 'catboost', 'catboost_clf', 'ridge']\n"
     ]
    }
   ],
   "source": [
    "model = FinancialForecaster(random_state=42)\n",
    "\n",
    "print(\"✓ Модель инициализирована\")\n",
    "print(f\"  Конфигураций моделей: {len(model.model_params)}\")\n",
    "print(f\"  Модели: {list(model.model_params.keys())}\")"
   ]
  },
  {
   "cell_type": "markdown",
   "id": "train_header",
   "metadata": {},
   "source": [
    "## 2. Обучение модели\n",
    "\n",
    "⏱️ **Время**: ~15-25 минут для всех 160 моделей\n",
    "\n",
    "Процесс:\n",
    "1. Загрузка данных\n",
    "2. Sentiment analysis (keyword-based)\n",
    "3. Feature engineering (~120 фичей)\n",
    "4. Кластеризация тикеров\n",
    "5. Подготовка данных\n",
    "6. **Обучение 160 моделей** с оптимизацией весов"
   ]
  },
  {
   "cell_type": "code",
   "execution_count": null,
   "id": "training",
   "metadata": {},
   "outputs": [
    {
     "name": "stdout",
     "output_type": "stream",
     "text": [
      "============================================================\n",
      "ОБУЧЕНИЕ МОДЕЛИ\n",
      "============================================================\n",
      "\n",
      "[1/6] Загрузка данных...\n",
      "  • Загружено 24197 свечей по 19 тикерам\n",
      "  • Загружено 25425 новостей\n",
      "\n",
      "[2/6] Обработка новостей (sentiment analysis)...\n",
      "  • Средний sentiment: 0.289\n",
      "\n",
      "[3/6] Feature engineering...\n",
      "  • Создано 113 фич\n",
      "\n",
      "[4/6] Кластеризация тикеров...\n",
      "  • Создано 4 кластеров тикеров\n",
      "\n",
      "[5/6] Подготовка данных для обучения...\n",
      "  • Tree features: 75\n",
      "  • Macro features: 50\n",
      "\n",
      "[6/6] Обучение ансамбля моделей...\n",
      "  • Обучение полного ансамбля для p1-p20...\n",
      "    Модели на горизонт: 2xLGBM + CatBoost + Ridge = 4 модели\n",
      "    Tree features: 75, Macro features: 50\n"
     ]
    }
   ],
   "source": [
    "train_candles_path = '../forecast_data/candles.csv'\n",
    "train_news_path = '../forecast_data/news.csv'\n",
    "\n",
    "# Обучение (долго!)\n",
    "model.fit(\n",
    "    candles_path=train_candles_path,\n",
    "    news_path=train_news_path\n",
    ")\n",
    "\n",
    "print(\"\\n\" + \"=\"*60)\n",
    "print(\"✓ ОБУЧЕНИЕ ЗАВЕРШЕНО\")\n",
    "print(\"=\"*60)"
   ]
  },
  {
   "cell_type": "markdown",
   "id": "save_header",
   "metadata": {},
   "source": [
    "## 3. Сохранение модели\n",
    "\n",
    "Сохраняем все 160 моделей + веса ансамблей + scalers в один файл.\n",
    "\n",
    "💾 Размер: ~50-100 MB"
   ]
  },
  {
   "cell_type": "code",
   "execution_count": null,
   "id": "save_model",
   "metadata": {},
   "outputs": [],
   "source": [
    "model.save('trained_model_v3.pkl')\n",
    "\n",
    "print(\"✓ Модель сохранена: trained_model_v3.pkl\")\n",
    "print(f\"  Моделей сохранено: {len(model.models)}\")\n",
    "print(f\"  Scalers: {len(model.scalers)}\")\n",
    "print(f\"  Ensemble weights: {len(model.ensemble_weights)}\")"
   ]
  },
  {
   "cell_type": "markdown",
   "id": "predict_header",
   "metadata": {},
   "source": [
    "## 4. Предсказание на тестовых данных\n",
    "\n",
    "⏱️ **Время**: ~30 секунд\n",
    "\n",
    "Генерируем предсказания **доходностей** (returns) для каждого тикера на 20 дней вперед."
   ]
  },
  {
   "cell_type": "code",
   "execution_count": null,
   "id": "prediction",
   "metadata": {},
   "outputs": [],
   "source": [
    "test_candles_path = '../forecast_data/candles_2.csv'\n",
    "test_news_path = '../forecast_data/news_2.csv'\n",
    "\n",
    "submission = model.predict(\n",
    "    candles_path=test_candles_path,\n",
    "    news_path=test_news_path,\n",
    "    output_path='submission_v3.csv'\n",
    ")\n",
    "\n",
    "print(\"\\n✓ Submission создан: submission_v3.csv\")"
   ]
  },
  {
   "cell_type": "markdown",
   "id": "results_header",
   "metadata": {},
   "source": [
    "## 5. Анализ результатов\n",
    "\n",
    "Проверяем что получили **доходности**, а не вероятности!"
   ]
  },
  {
   "cell_type": "code",
   "execution_count": null,
   "id": "analysis",
   "metadata": {},
   "outputs": [],
   "source": [
    "print(\"=\"*60)\n",
    "print(\"АНАЛИЗ SUBMISSION\")\n",
    "print(\"=\"*60)\n",
    "\n",
    "print(f\"\\nФорма: {submission.shape}\")\n",
    "print(f\"Тикеров: {submission['ticker'].nunique()}\")\n",
    "\n",
    "print(\"\\nПервые 5 строк:\")\n",
    "print(submission.head())\n",
    "\n",
    "print(\"\\n\" + \"=\"*60)\n",
    "print(\"СТАТИСТИКА ПО ДОХОДНОСТЯМ\")\n",
    "print(\"=\"*60)\n",
    "\n",
    "returns_cols = [f'p{i}' for i in range(1, 21)]\n",
    "stats = submission[returns_cols].describe()\n",
    "print(stats)\n",
    "\n",
    "print(\"\\n\" + \"=\"*60)\n",
    "print(\"ПРОВЕРКА ФОРМАТА\")\n",
    "print(\"=\"*60)\n",
    "\n",
    "# Проверяем что это returns, а не вероятности\n",
    "for col in ['p1', 'p5', 'p10', 'p15', 'p20']:\n",
    "    min_val = submission[col].min()\n",
    "    max_val = submission[col].max()\n",
    "    mean_val = submission[col].mean()\n",
    "    \n",
    "    # Returns обычно имеют отрицательные значения или > 1\n",
    "    # Вероятности всегда в [0, 1]\n",
    "    is_return = (min_val < 0) or (max_val > 1)\n",
    "    status = \"✅ RETURN\" if is_return else \"⚠️  PROB?\"\n",
    "    \n",
    "    print(f\"{col}: [{min_val:7.4f}, {max_val:7.4f}], mean={mean_val:7.4f} → {status}\")\n",
    "\n",
    "print(\"\\n\" + \"=\"*60)\n",
    "print(\"ПРИМЕРЫ ПРЕДСКАЗАНИЙ\")\n",
    "print(\"=\"*60)\n",
    "\n",
    "for ticker in submission['ticker'].head(3):\n",
    "    row = submission[submission['ticker'] == ticker].iloc[0]\n",
    "    print(f\"\\n{ticker}:\")\n",
    "    print(f\"  p1  (1 день):  {row['p1']:+.4f} ({row['p1']*100:+.2f}%)\")\n",
    "    print(f\"  p5  (5 дней):  {row['p5']:+.4f} ({row['p5']*100:+.2f}%)\")\n",
    "    print(f\"  p10 (10 дней): {row['p10']:+.4f} ({row['p10']*100:+.2f}%)\")\n",
    "    print(f\"  p20 (20 дней): {row['p20']:+.4f} ({row['p20']*100:+.2f}%)\")"
   ]
  },
  {
   "cell_type": "markdown",
   "id": "load_header",
   "metadata": {},
   "source": [
    "## 6. Альтернатива: Загрузка готовой модели\n",
    "\n",
    "Если модель уже обучена, можно сразу загрузить и делать предсказания."
   ]
  },
  {
   "cell_type": "code",
   "execution_count": null,
   "id": "load_model",
   "metadata": {},
   "outputs": [],
   "source": [
    "# Создаем новый экземпляр\n",
    "loaded_model = FinancialForecaster()\n",
    "\n",
    "# Загружаем обученную модель\n",
    "loaded_model.load('trained_model_v3.pkl')\n",
    "\n",
    "# Делаем предсказания\n",
    "submission2 = loaded_model.predict(\n",
    "    candles_path=test_candles_path,\n",
    "    news_path=test_news_path,\n",
    "    output_path='submission_from_loaded.csv'\n",
    ")\n",
    "\n",
    "print(\"✓ Предсказания сделаны с загруженной моделью\")\n",
    "print(f\"  Тикеров: {len(submission2)}\")\n",
    "print(f\"  Колонок: {len(submission2.columns)}\")"
   ]
  },
  {
   "cell_type": "markdown",
   "id": "validation",
   "metadata": {},
   "source": [
    "## 7. Финальная валидация формата\n",
    "\n",
    "Убеждаемся что submission в правильном формате."
   ]
  },
  {
   "cell_type": "code",
   "execution_count": null,
   "id": "validate",
   "metadata": {},
   "outputs": [],
   "source": [
    "def validate_submission(df, name=\"submission\"):\n",
    "    \"\"\"Валидация формата submission\"\"\"\n",
    "    print(f\"\\n{'='*60}\")\n",
    "    print(f\"ВАЛИДАЦИЯ: {name}\")\n",
    "    print(\"=\"*60)\n",
    "    \n",
    "    # Проверка колонок\n",
    "    required_cols = ['ticker'] + [f'p{i}' for i in range(1, 21)]\n",
    "    if list(df.columns) == required_cols:\n",
    "        print(\"✅ Колонки правильные: ticker,p1,p2,...,p20\")\n",
    "    else:\n",
    "        print(\"❌ НЕПРАВИЛЬНЫЕ КОЛОНКИ!\")\n",
    "        return False\n",
    "    \n",
    "    # Проверка уникальности тикеров\n",
    "    if not df['ticker'].duplicated().any():\n",
    "        print(f\"✅ Все тикеры уникальны ({len(df)} строк)\")\n",
    "    else:\n",
    "        print(\"❌ ЕСТЬ ДУБЛИКАТЫ ТИКЕРОВ!\")\n",
    "        return False\n",
    "    \n",
    "    # Проверка что это returns (не вероятности)\n",
    "    has_negatives = any(df[f'p{i}'].min() < 0 for i in range(1, 21))\n",
    "    has_outliers = any(df[f'p{i}'].max() > 1 for i in range(1, 21))\n",
    "    \n",
    "    if has_negatives or has_outliers:\n",
    "        print(\"✅ Содержит RETURNS (есть отрицательные или >1)\")\n",
    "    else:\n",
    "        print(\"⚠️  ВСЕ ЗНАЧЕНИЯ В [0,1] - ВОЗМОЖНО ВЕРОЯТНОСТИ!\")\n",
    "    \n",
    "    # Статистика\n",
    "    all_returns = df[[f'p{i}' for i in range(1, 21)]].values.flatten()\n",
    "    print(f\"\\nСтатистика всех предсказаний:\")\n",
    "    print(f\"  Min: {all_returns.min():.4f}\")\n",
    "    print(f\"  Max: {all_returns.max():.4f}\")\n",
    "    print(f\"  Mean: {all_returns.mean():.4f}\")\n",
    "    print(f\"  Std: {all_returns.std():.4f}\")\n",
    "    \n",
    "    print(\"\\n✅ ВАЛИДАЦИЯ ПРОЙДЕНА!\")\n",
    "    return True\n",
    "\n",
    "# Валидируем\n",
    "validate_submission(submission, \"submission_v3.csv\")"
   ]
  },
  {
   "cell_type": "markdown",
   "id": "summary",
   "metadata": {},
   "source": [
    "## 📋 Резюме\n",
    "\n",
    "### Что мы сделали:\n",
    "1. ✅ Инициализировали модель (160 моделей)\n",
    "2. ✅ Обучили на candles.csv + news.csv (~15-25 мин)\n",
    "3. ✅ Сохранили модель (~50-100 MB)\n",
    "4. ✅ Сгенерировали submission с **доходностями** (не вероятностями!)\n",
    "5. ✅ Проверили формат\n",
    "\n",
    "### Формат submission:\n",
    "```\n",
    "ticker,p1,p2,p3,...,p20\n",
    "AFLT,0.0123,-0.0089,0.0234,...,-0.0112\n",
    "```\n",
    "\n",
    "### Архитектура:\n",
    "- **LGBM Aggressive** (reg + clf) × 20 дней\n",
    "- **LGBM Conservative** (reg + clf) × 20 дней\n",
    "- **CatBoost** (reg + clf) × 20 дней\n",
    "- **Ridge** (reg + scaler) × 20 дней\n",
    "- **Оптимальные веса** через scipy.optimize\n",
    "\n",
    "### Следующие шаги:\n",
    "1. Запустите `test_returns_format.py` для финальной проверки\n",
    "2. Submit файл `submission_v3.csv`\n",
    "3. Опционально: оптимизируйте гиперпараметры через `optimize_hyperparams.py`"
   ]
  }
 ],
 "metadata": {
  "kernelspec": {
   "display_name": "Python 3",
   "language": "python",
   "name": "python3"
  },
  "language_info": {
   "codemirror_mode": {
    "name": "ipython",
    "version": 3
   },
   "file_extension": ".py",
   "mimetype": "text/x-python",
   "name": "python",
   "nbconvert_exporter": "python",
   "pygments_lexer": "ipython3",
   "version": "3.11.0"
  }
 },
 "nbformat": 4,
 "nbformat_minor": 5
}
